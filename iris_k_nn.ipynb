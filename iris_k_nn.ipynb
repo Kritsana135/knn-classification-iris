{
  "nbformat": 4,
  "nbformat_minor": 0,
  "metadata": {
    "colab": {
      "name": "iris_k-nn.ipynb",
      "provenance": [],
      "authorship_tag": "ABX9TyOWdn6aqxqbWm2F4Qk4cVEA",
      "include_colab_link": true
    },
    "kernelspec": {
      "name": "python3",
      "display_name": "Python 3"
    },
    "accelerator": "GPU"
  },
  "cells": [
    {
      "cell_type": "markdown",
      "metadata": {
        "id": "view-in-github",
        "colab_type": "text"
      },
      "source": [
        "<a href=\"https://colab.research.google.com/github/Kritsana135/knn-classification-iris/blob/master/iris_k_nn.ipynb\" target=\"_parent\"><img src=\"https://colab.research.google.com/assets/colab-badge.svg\" alt=\"Open In Colab\"/></a>"
      ]
    },
    {
      "cell_type": "code",
      "metadata": {
        "id": "XttqrU5gzW4_",
        "colab_type": "code",
        "colab": {
          "base_uri": "https://localhost:8080/",
          "height": 1000
        },
        "outputId": "a493739e-54b7-4274-f76d-314506d9f111"
      },
      "source": [
        "from sklearn import datasets\n",
        "iris = datasets.load_iris()\n",
        "print(iris.DESCR)"
      ],
      "execution_count": 3,
      "outputs": [
        {
          "output_type": "stream",
          "text": [
            ".. _iris_dataset:\n",
            "\n",
            "Iris plants dataset\n",
            "--------------------\n",
            "\n",
            "**Data Set Characteristics:**\n",
            "\n",
            "    :Number of Instances: 150 (50 in each of three classes)\n",
            "    :Number of Attributes: 4 numeric, predictive attributes and the class\n",
            "    :Attribute Information:\n",
            "        - sepal length in cm\n",
            "        - sepal width in cm\n",
            "        - petal length in cm\n",
            "        - petal width in cm\n",
            "        - class:\n",
            "                - Iris-Setosa\n",
            "                - Iris-Versicolour\n",
            "                - Iris-Virginica\n",
            "                \n",
            "    :Summary Statistics:\n",
            "\n",
            "    ============== ==== ==== ======= ===== ====================\n",
            "                    Min  Max   Mean    SD   Class Correlation\n",
            "    ============== ==== ==== ======= ===== ====================\n",
            "    sepal length:   4.3  7.9   5.84   0.83    0.7826\n",
            "    sepal width:    2.0  4.4   3.05   0.43   -0.4194\n",
            "    petal length:   1.0  6.9   3.76   1.76    0.9490  (high!)\n",
            "    petal width:    0.1  2.5   1.20   0.76    0.9565  (high!)\n",
            "    ============== ==== ==== ======= ===== ====================\n",
            "\n",
            "    :Missing Attribute Values: None\n",
            "    :Class Distribution: 33.3% for each of 3 classes.\n",
            "    :Creator: R.A. Fisher\n",
            "    :Donor: Michael Marshall (MARSHALL%PLU@io.arc.nasa.gov)\n",
            "    :Date: July, 1988\n",
            "\n",
            "The famous Iris database, first used by Sir R.A. Fisher. The dataset is taken\n",
            "from Fisher's paper. Note that it's the same as in R, but not as in the UCI\n",
            "Machine Learning Repository, which has two wrong data points.\n",
            "\n",
            "This is perhaps the best known database to be found in the\n",
            "pattern recognition literature.  Fisher's paper is a classic in the field and\n",
            "is referenced frequently to this day.  (See Duda & Hart, for example.)  The\n",
            "data set contains 3 classes of 50 instances each, where each class refers to a\n",
            "type of iris plant.  One class is linearly separable from the other 2; the\n",
            "latter are NOT linearly separable from each other.\n",
            "\n",
            ".. topic:: References\n",
            "\n",
            "   - Fisher, R.A. \"The use of multiple measurements in taxonomic problems\"\n",
            "     Annual Eugenics, 7, Part II, 179-188 (1936); also in \"Contributions to\n",
            "     Mathematical Statistics\" (John Wiley, NY, 1950).\n",
            "   - Duda, R.O., & Hart, P.E. (1973) Pattern Classification and Scene Analysis.\n",
            "     (Q327.D83) John Wiley & Sons.  ISBN 0-471-22361-1.  See page 218.\n",
            "   - Dasarathy, B.V. (1980) \"Nosing Around the Neighborhood: A New System\n",
            "     Structure and Classification Rule for Recognition in Partially Exposed\n",
            "     Environments\".  IEEE Transactions on Pattern Analysis and Machine\n",
            "     Intelligence, Vol. PAMI-2, No. 1, 67-71.\n",
            "   - Gates, G.W. (1972) \"The Reduced Nearest Neighbor Rule\".  IEEE Transactions\n",
            "     on Information Theory, May 1972, 431-433.\n",
            "   - See also: 1988 MLC Proceedings, 54-64.  Cheeseman et al\"s AUTOCLASS II\n",
            "     conceptual clustering system finds 3 classes in the data.\n",
            "   - Many, many more ...\n"
          ],
          "name": "stdout"
        }
      ]
    },
    {
      "cell_type": "markdown",
      "metadata": {
        "id": "UVfn5nfN6HjZ",
        "colab_type": "text"
      },
      "source": [
        "พล็อตกราฟเพื่อดูการกระจายตัวของข้อมูล"
      ]
    },
    {
      "cell_type": "code",
      "metadata": {
        "id": "ZqDGvMPh2Cvd",
        "colab_type": "code",
        "colab": {}
      },
      "source": [
        "import matplotlib.pyplot as plt\n",
        "%matplotlib inline\n",
        "x = range(50)"
      ],
      "execution_count": 4,
      "outputs": []
    },
    {
      "cell_type": "markdown",
      "metadata": {
        "id": "Dd0LsHJ16th0",
        "colab_type": "text"
      },
      "source": [
        "เริ่มที petal width"
      ]
    },
    {
      "cell_type": "code",
      "metadata": {
        "id": "6MVbG7dA64_w",
        "colab_type": "code",
        "colab": {
          "base_uri": "https://localhost:8080/",
          "height": 282
        },
        "outputId": "4bc0476e-700e-4221-dc2f-658f5f9b8e5c"
      },
      "source": [
        "plt.scatter(x,iris.data[:50,3],color='red') #petal width of Setosa\n",
        "plt.scatter(x,iris.data[50:100,3],color='blue') #petal width of Versicolour \n",
        "plt.scatter(x,iris.data[100:,3],color='green') #petal width of Virginica"
      ],
      "execution_count": 5,
      "outputs": [
        {
          "output_type": "execute_result",
          "data": {
            "text/plain": [
              "<matplotlib.collections.PathCollection at 0x7f5943637748>"
            ]
          },
          "metadata": {
            "tags": []
          },
          "execution_count": 5
        },
        {
          "output_type": "display_data",
          "data": {
            "image/png": "[encoded data removed]",
            "text/plain": [
              "<Figure size 432x288 with 1 Axes>"
            ]
          },
          "metadata": {
            "tags": [],
            "needs_background": "light"
          }
        }
      ]
    },
    {
      "cell_type": "markdown",
      "metadata": {
        "id": "iw7j7BXo697a",
        "colab_type": "text"
      },
      "source": [
        "ต่อด้วย petal length"
      ]
    },
    {
      "cell_type": "code",
      "metadata": {
        "id": "1ypVUrqv7Bu3",
        "colab_type": "code",
        "colab": {
          "base_uri": "https://localhost:8080/",
          "height": 282
        },
        "outputId": "6884aaed-88d7-4fc9-bff7-f33e5a6df4d9"
      },
      "source": [
        "plt.scatter(x,iris.data[:50,2],color='red') #petal length of Setosa\n",
        "plt.scatter(x,iris.data[50:100,2],color='blue') #petal length of Versicolour \n",
        "plt.scatter(x,iris.data[100:,2],color='green') #petal length of Virginica"
      ],
      "execution_count": 6,
      "outputs": [
        {
          "output_type": "execute_result",
          "data": {
            "text/plain": [
              "<matplotlib.collections.PathCollection at 0x7f594311a588>"
            ]
          },
          "metadata": {
            "tags": []
          },
          "execution_count": 6
        },
        {
          "output_type": "display_data",
          "data": {
            "image/png": "[encoded data removed]",
            "text/plain": [
              "<Figure size 432x288 with 1 Axes>"
            ]
          },
          "metadata": {
            "tags": [],
            "needs_background": "light"
          }
        }
      ]
    },
    {
      "cell_type": "markdown",
      "metadata": {
        "id": "QCo68neT5lPt",
        "colab_type": "text"
      },
      "source": [
        "แบ่งข้อมูลสำหรับ\n",
        "- การเทรน 80%\n",
        "- การทดสอบ 20%"
      ]
    },
    {
      "cell_type": "code",
      "metadata": {
        "id": "X3l8JC125iLp",
        "colab_type": "code",
        "colab": {
          "base_uri": "https://localhost:8080/",
          "height": 51
        },
        "outputId": "f6012d36-0e1d-4a52-d82e-477b4369ac8f"
      },
      "source": [
        "from sklearn.model_selection import train_test_split\n",
        "X_train,X_test,Y_train,Y_test = train_test_split(iris.data[:,2:4],iris.target,test_size=0.2,random_state=42,stratify=iris.target)\n",
        "print('Train Shape X: {} Y : {}'.format(X_train.shape,Y_train.shape))\n",
        "print('Test Shape X: {} Y : {}'.format(X_test.shape,Y_test.shape))\n"
      ],
      "execution_count": 7,
      "outputs": [
        {
          "output_type": "stream",
          "text": [
            "Train Shape X: (120, 2) Y : (120,)\n",
            "Test Shape X: (30, 2) Y : (30,)\n"
          ],
          "name": "stdout"
        }
      ]
    },
    {
      "cell_type": "markdown",
      "metadata": {
        "id": "XMO_TCds-gj6",
        "colab_type": "text"
      },
      "source": [
        "สร้าง model K-NN ด้วยการเรียก Library KNeighborsClassifier\n",
        "\n",
        "โดยกำหนดเพื่อนบ้านไว้ที่ 1 คน"
      ]
    },
    {
      "cell_type": "code",
      "metadata": {
        "id": "I_IzC5k2-s1S",
        "colab_type": "code",
        "colab": {}
      },
      "source": [
        "from sklearn.neighbors import KNeighborsClassifier\n",
        "knn = KNeighborsClassifier(n_neighbors = 1)"
      ],
      "execution_count": 8,
      "outputs": []
    },
    {
      "cell_type": "markdown",
      "metadata": {
        "id": "4m-SpZfR_v5D",
        "colab_type": "text"
      },
      "source": [
        "เทรนโมเดลด้วยคำสั่ง fit(X,Y)\n",
        "- ใช้ X_train,Y_train"
      ]
    },
    {
      "cell_type": "code",
      "metadata": {
        "id": "uaEFsF_wAA8Q",
        "colab_type": "code",
        "colab": {
          "base_uri": "https://localhost:8080/",
          "height": 68
        },
        "outputId": "a2db7f1c-00d4-4d8e-9be7-cf8fa0bc1933"
      },
      "source": [
        "knn.fit(X_train,Y_train)"
      ],
      "execution_count": 9,
      "outputs": [
        {
          "output_type": "execute_result",
          "data": {
            "text/plain": [
              "KNeighborsClassifier(algorithm='auto', leaf_size=30, metric='minkowski',\n",
              "                     metric_params=None, n_jobs=None, n_neighbors=1, p=2,\n",
              "                     weights='uniform')"
            ]
          },
          "metadata": {
            "tags": []
          },
          "execution_count": 9
        }
      ]
    },
    {
      "cell_type": "markdown",
      "metadata": {
        "id": "tJscEYtZsuEB",
        "colab_type": "text"
      },
      "source": [
        "ทำการทดสอบโมเดลด้วย X_test"
      ]
    },
    {
      "cell_type": "code",
      "metadata": {
        "id": "DQU3PpE2sxQH",
        "colab_type": "code",
        "colab": {}
      },
      "source": [
        "answer = knn.predict(X_test)"
      ],
      "execution_count": 11,
      "outputs": []
    },
    {
      "cell_type": "markdown",
      "metadata": {
        "id": "_ikSo0uMtgWJ",
        "colab_type": "text"
      },
      "source": [
        "ทำ Evaluate-Test"
      ]
    },
    {
      "cell_type": "code",
      "metadata": {
        "id": "46zWspyttkih",
        "colab_type": "code",
        "colab": {
          "base_uri": "https://localhost:8080/",
          "height": 187
        },
        "outputId": "6a432f90-bd95-4c1c-9b59-d9d86ae845f1"
      },
      "source": [
        "from sklearn.metrics import classification_report\n",
        "print(classification_report(Y_test,answer))"
      ],
      "execution_count": 12,
      "outputs": [
        {
          "output_type": "stream",
          "text": [
            "              precision    recall  f1-score   support\n",
            "\n",
            "           0       1.00      1.00      1.00        10\n",
            "           1       0.91      1.00      0.95        10\n",
            "           2       1.00      0.90      0.95        10\n",
            "\n",
            "    accuracy                           0.97        30\n",
            "   macro avg       0.97      0.97      0.97        30\n",
            "weighted avg       0.97      0.97      0.97        30\n",
            "\n"
          ],
          "name": "stdout"
        }
      ]
    },
    {
      "cell_type": "markdown",
      "metadata": {
        "id": "NrQ9XTwswNg3",
        "colab_type": "text"
      },
      "source": [
        "ทำการ Scale เพื่อเพิ่มความแม่นยำ"
      ]
    },
    {
      "cell_type": "code",
      "metadata": {
        "id": "LR2jD-buwRDY",
        "colab_type": "code",
        "colab": {}
      },
      "source": [
        "from sklearn.preprocessing import StandardScaler\n",
        "scalar = StandardScaler()\n",
        "X = scalar.fit_transform(iris.data[:,2:4])"
      ],
      "execution_count": 13,
      "outputs": []
    },
    {
      "cell_type": "markdown",
      "metadata": {
        "id": "NzGDKthpyIN0",
        "colab_type": "text"
      },
      "source": [
        "แบ่งข้อมูลอีกครั้ง"
      ]
    },
    {
      "cell_type": "code",
      "metadata": {
        "id": "F54PS8ZfyLBd",
        "colab_type": "code",
        "colab": {
          "base_uri": "https://localhost:8080/",
          "height": 187
        },
        "outputId": "a3097508-f6ea-4987-dfb3-d8458c24f2ef"
      },
      "source": [
        "X_train, X_test, y_train, y_test = train_test_split(X, iris.target, test_size=0.2, random_state=42,stratify=iris.target)\n",
        "\n",
        "knn = KNeighborsClassifier(n_neighbors = 1)\n",
        "knn.fit(X_train,y_train)#ฝึกโมเดล\n",
        "#ทดสอบโมเดล\n",
        "answer = knn.predict(X_test)\n",
        "print(classification_report(y_test, answer))"
      ],
      "execution_count": 15,
      "outputs": [
        {
          "output_type": "stream",
          "text": [
            "              precision    recall  f1-score   support\n",
            "\n",
            "           0       1.00      1.00      1.00        10\n",
            "           1       0.91      1.00      0.95        10\n",
            "           2       1.00      0.90      0.95        10\n",
            "\n",
            "    accuracy                           0.97        30\n",
            "   macro avg       0.97      0.97      0.97        30\n",
            "weighted avg       0.97      0.97      0.97        30\n",
            "\n"
          ],
          "name": "stdout"
        }
      ]
    },
    {
      "cell_type": "markdown",
      "metadata": {
        "id": "BO8GkEiPznm2",
        "colab_type": "text"
      },
      "source": [
        "ทำการ Tune Model"
      ]
    },
    {
      "cell_type": "code",
      "metadata": {
        "id": "5tw0-AVJzo9B",
        "colab_type": "code",
        "colab": {
          "base_uri": "https://localhost:8080/",
          "height": 68
        },
        "outputId": "5416498f-a8d9-4561-93d0-76cb753997a5"
      },
      "source": [
        "from sklearn.model_selection import GridSearchCV\n",
        "parameters = {'n_neighbors': range(1,11)}\n",
        "knn_best = GridSearchCV(knn, parameters, cv=5)\n",
        "knn_best.fit(X_train,y_train)\n",
        "knn_best.best_estimator_"
      ],
      "execution_count": 18,
      "outputs": [
        {
          "output_type": "execute_result",
          "data": {
            "text/plain": [
              "KNeighborsClassifier(algorithm='auto', leaf_size=30, metric='minkowski',\n",
              "                     metric_params=None, n_jobs=None, n_neighbors=4, p=2,\n",
              "                     weights='uniform')"
            ]
          },
          "metadata": {
            "tags": []
          },
          "execution_count": 18
        }
      ]
    },
    {
      "cell_type": "markdown",
      "metadata": {
        "id": "z6fxtvcx0KDJ",
        "colab_type": "text"
      },
      "source": [
        "ทดสอบโมเดลอีกครั้ง"
      ]
    },
    {
      "cell_type": "code",
      "metadata": {
        "id": "x6ZmemoZ0MPn",
        "colab_type": "code",
        "colab": {
          "base_uri": "https://localhost:8080/",
          "height": 187
        },
        "outputId": "2f2eb320-4881-444b-dc0d-74ef3048224e"
      },
      "source": [
        "answer = knn_best.predict(X_test)\n",
        "print(classification_report(y_test, answer))"
      ],
      "execution_count": 19,
      "outputs": [
        {
          "output_type": "stream",
          "text": [
            "              precision    recall  f1-score   support\n",
            "\n",
            "           0       1.00      1.00      1.00        10\n",
            "           1       1.00      1.00      1.00        10\n",
            "           2       1.00      1.00      1.00        10\n",
            "\n",
            "    accuracy                           1.00        30\n",
            "   macro avg       1.00      1.00      1.00        30\n",
            "weighted avg       1.00      1.00      1.00        30\n",
            "\n"
          ],
          "name": "stdout"
        }
      ]
    }
  ]
}